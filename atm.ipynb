{
 "cells": [
  {
   "cell_type": "code",
   "execution_count": 37,
   "id": "fdc1a2cc-49ee-4bae-8ab3-ec33a7c0a3d2",
   "metadata": {},
   "outputs": [
    {
     "name": "stdin",
     "output_type": "stream",
     "text": [
      "Enter the initial balance:  5000\n"
     ]
    },
    {
     "name": "stdout",
     "output_type": "stream",
     "text": [
      "\n",
      "-----Menu-----:\n",
      "1.Check Balance\n",
      "2.Deposit Money\n",
      "3.Withdraw Money\n",
      "4.Exit\n"
     ]
    },
    {
     "name": "stdin",
     "output_type": "stream",
     "text": [
      "ENTER THE OPTION(1,2,3,4):  2\n",
      "Enter the amount to deposit(Rs):  2000\n"
     ]
    },
    {
     "name": "stdout",
     "output_type": "stream",
     "text": [
      "you deposited Rs 2000 successfully.New balance is Rs 7000\n",
      "\n",
      "-----Menu-----:\n",
      "1.Check Balance\n",
      "2.Deposit Money\n",
      "3.Withdraw Money\n",
      "4.Exit\n"
     ]
    },
    {
     "name": "stdin",
     "output_type": "stream",
     "text": [
      "ENTER THE OPTION(1,2,3,4):  3\n",
      "Enter the amount to withdraw(Rs):  3000\n"
     ]
    },
    {
     "name": "stdout",
     "output_type": "stream",
     "text": [
      "You withdraw Rs. 3000 successfully. New balance is Rs. 4000\n",
      "\n",
      "-----Menu-----:\n",
      "1.Check Balance\n",
      "2.Deposit Money\n",
      "3.Withdraw Money\n",
      "4.Exit\n"
     ]
    },
    {
     "name": "stdin",
     "output_type": "stream",
     "text": [
      "ENTER THE OPTION(1,2,3,4):  4\n"
     ]
    },
    {
     "name": "stdout",
     "output_type": "stream",
     "text": [
      "Thank you!visit again\n"
     ]
    }
   ],
   "source": [
    "balance = int(input(\"Enter the initial balance: \"))\n",
    "while True:\n",
    "    print(\"\\n-----Menu-----:\")\n",
    "    print(\"1.Check Balance\")\n",
    "    print(\"2.Deposit Money\")\n",
    "    print(\"3.Withdraw Money\")\n",
    "    print(\"4.Exit\")\n",
    "    option = int(input(\"ENTER THE OPTION(1,2,3,4): \"))\n",
    "    if option == 1:\n",
    "        print(\"Your current balance is Rs\",balance)\n",
    "        \n",
    "    elif option == 2:\n",
    "        amount=int(input(\"Enter the amount to deposit(Rs): \"))\n",
    "        balance += amount\n",
    "        print(\"you deposited Rs\",amount,\"successfully.New balance is Rs\",balance)\n",
    "        \n",
    "    elif option == 3:\n",
    "        amount = int(input(\"Enter the amount to withdraw(Rs): \"))\n",
    "        if amount > balance:\n",
    "            print(\"Insufficient balance\")\n",
    "        else:\n",
    "            balance -= amount\n",
    "            print(\"You withdraw Rs.\", amount, \"successfully. New balance is Rs.\", balance)\n",
    "            \n",
    "    elif option == 4:\n",
    "         print(\"Thank you!visit again\")\n",
    "         break\n",
    "        \n",
    "    else:\n",
    "        print(\"Invalid!\")"
   ]
  },
  {
   "cell_type": "code",
   "execution_count": null,
   "id": "6d227281-8841-4151-a450-84284e894ce6",
   "metadata": {},
   "outputs": [],
   "source": []
  }
 ],
 "metadata": {
  "kernelspec": {
   "display_name": "Python 3 (ipykernel)",
   "language": "python",
   "name": "python3"
  },
  "language_info": {
   "codemirror_mode": {
    "name": "ipython",
    "version": 3
   },
   "file_extension": ".py",
   "mimetype": "text/x-python",
   "name": "python",
   "nbconvert_exporter": "python",
   "pygments_lexer": "ipython3",
   "version": "3.12.7"
  }
 },
 "nbformat": 4,
 "nbformat_minor": 5
}
