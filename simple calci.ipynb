{
 "cells": [
  {
   "cell_type": "code",
   "execution_count": null,
   "id": "0c1230cd-9169-4eef-b9e5-a9cfed2ea95d",
   "metadata": {},
   "outputs": [],
   "source": [
    "#SIMPLE CALCULATOR\n",
    "n1=float(input(\"Enter the number1=\"))\n",
    "n2=float(input(\"Enetr the number2=\"))\n",
    "operation=input(\"Enter operation(+,-,*,/)\")\n",
    "if(operation==\"+\"):\n",
    "    print(n1+n1)\n",
    "elif(operation==\"-\"):\n",
    "    print(n1-n2)\n",
    "elif(operation==\"*\"):\n",
    "    print(n1*n2)\n",
    "elif(operation==\"/\"):\n",
    "    print(n1/n2)\n",
    "else:\n",
    "    print(invalid)"
   ]
  }
 ],
 "metadata": {
  "kernelspec": {
   "display_name": "Python 3 (ipykernel)",
   "language": "python",
   "name": "python3"
  },
  "language_info": {
   "codemirror_mode": {
    "name": "ipython",
    "version": 3
   },
   "file_extension": ".py",
   "mimetype": "text/x-python",
   "name": "python",
   "nbconvert_exporter": "python",
   "pygments_lexer": "ipython3",
   "version": "3.12.7"
  }
 },
 "nbformat": 4,
 "nbformat_minor": 5
}
